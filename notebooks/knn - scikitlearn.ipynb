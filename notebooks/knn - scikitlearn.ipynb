{
 "cells": [
  {
   "cell_type": "code",
   "execution_count": 2,
   "metadata": {},
   "outputs": [],
   "source": [
    "from sklearn.neighbors import KNeighborsClassifier"
   ]
  },
  {
   "cell_type": "code",
   "execution_count": 5,
   "metadata": {},
   "outputs": [],
   "source": [
    "entradas, saidas = [], []\n",
    "with open('../haberman.data', 'r') as file:\n",
    "    for linha in file.readlines():\n",
    "        attr = linha.replace('\\n', '').split(',')\n",
    "        entradas.append([int(attr[0]), int(attr[2])])\n",
    "        saidas.append(int(attr[3]))"
   ]
  },
  {
   "cell_type": "code",
   "execution_count": 8,
   "metadata": {},
   "outputs": [],
   "source": [
    "p = 0.6 # porcentagem dos dados para treinamento"
   ]
  },
  {
   "cell_type": "code",
   "execution_count": 10,
   "metadata": {},
   "outputs": [],
   "source": [
    "limite = int(p * len(entradas))"
   ]
  },
  {
   "cell_type": "code",
   "execution_count": 32,
   "metadata": {},
   "outputs": [
    {
     "name": "stdout",
     "output_type": "stream",
     "text": [
      "conjunto de treinamento: 183\n",
      "conjunto de teste: 123\n",
      "total de acertos: 92\n",
      "percentual de acertos: 74.79674796747967\n"
     ]
    }
   ],
   "source": [
    "knn = KNeighborsClassifier(n_neighbors=15)\n",
    "knn.fit(entradas[:limite], saidas[:limite])\n",
    "labels = knn.predict(entradas[limite:])\n",
    "\n",
    "acertos = 0\n",
    "for i, classe in enumerate(labels):\n",
    "    if classe == saidas[i + limite]:\n",
    "        acertos += 1\n",
    "\n",
    "print(f'conjunto de treinamento: {limite}')\n",
    "print(f'conjunto de teste: {len(entradas) - limite}')\n",
    "print(f'total de acertos: {acertos}')\n",
    "print(f'percentual de acertos: {100*(acertos/(len(entradas) - limite))}')"
   ]
  },
  {
   "cell_type": "code",
   "execution_count": null,
   "metadata": {},
   "outputs": [],
   "source": []
  }
 ],
 "metadata": {
  "kernelspec": {
   "display_name": "Python 3",
   "language": "python",
   "name": "python3"
  },
  "language_info": {
   "codemirror_mode": {
    "name": "ipython",
    "version": 3
   },
   "file_extension": ".py",
   "mimetype": "text/x-python",
   "name": "python",
   "nbconvert_exporter": "python",
   "pygments_lexer": "ipython3",
   "version": "3.6.2"
  }
 },
 "nbformat": 4,
 "nbformat_minor": 2
}
